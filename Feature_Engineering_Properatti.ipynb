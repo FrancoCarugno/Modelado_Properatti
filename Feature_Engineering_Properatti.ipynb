{
 "cells": [
  {
   "cell_type": "code",
   "execution_count": 1,
   "metadata": {},
   "outputs": [],
   "source": [
    "# Importo las librerias\n",
    "import numpy as np # linear algebra\n",
    "import pandas as pd # data processing, CSV file I/O (e.g. pd.read_csv)\n",
    "import seaborn as sns\n",
    "import matplotlib.pyplot as plt\n",
    "%matplotlib inline\n",
    "import warnings\n",
    "from sklearn.model_selection import train_test_split\n",
    "warnings.filterwarnings('ignore')\n",
    "from sklearn import linear_model\n",
    "import re"
   ]
  },
  {
   "cell_type": "markdown",
   "metadata": {},
   "source": [
    "## Desafío DOS.\n",
    "##### Introducción.\n",
    "En este desafío desarrollaremos y evaluaremos el rendimiento de varios modelos para analizar su potencia y su poder de generalización,sobre datos referentes al mercado inmobiliario proporcionados por Properatti."
   ]
  },
  {
   "cell_type": "markdown",
   "metadata": {},
   "source": [
    "##### Modificación de datos y preprocesamiento previo.\n",
    "Para continuar con el desafio número dos y desarrollar un modelo que nos permita inferir el precio por metro cuadrado, decidimos crear nuevas features con el objetivo de aumentar la cantidad de variables explicativas y lograr un buen ajuste para el modelo. Para ello utilizamos la técnica Regex para extraer información de la columna \"description\" y dummificar ciertas variables como las amenities."
   ]
  },
  {
   "cell_type": "code",
   "execution_count": 2,
   "metadata": {},
   "outputs": [
    {
     "data": {
      "text/html": [
       "<div>\n",
       "<style scoped>\n",
       "    .dataframe tbody tr th:only-of-type {\n",
       "        vertical-align: middle;\n",
       "    }\n",
       "\n",
       "    .dataframe tbody tr th {\n",
       "        vertical-align: top;\n",
       "    }\n",
       "\n",
       "    .dataframe thead th {\n",
       "        text-align: right;\n",
       "    }\n",
       "</style>\n",
       "<table border=\"1\" class=\"dataframe\">\n",
       "  <thead>\n",
       "    <tr style=\"text-align: right;\">\n",
       "      <th></th>\n",
       "      <th>Unnamed: 0</th>\n",
       "      <th>price_aprox_usd</th>\n",
       "      <th>surface_total_in_m2</th>\n",
       "      <th>surface_covered_in_m2</th>\n",
       "      <th>Provincia</th>\n",
       "      <th>Barrio</th>\n",
       "      <th>property_title</th>\n",
       "      <th>propiedad_PH</th>\n",
       "      <th>propiedad_apartment</th>\n",
       "      <th>propiedad_house</th>\n",
       "      <th>propiedad_store</th>\n",
       "      <th>precio_M2_total</th>\n",
       "      <th>precio_M2_covered</th>\n",
       "    </tr>\n",
       "  </thead>\n",
       "  <tbody>\n",
       "    <tr>\n",
       "      <th>0</th>\n",
       "      <td>0</td>\n",
       "      <td>62000.0</td>\n",
       "      <td>55.0</td>\n",
       "      <td>40.0</td>\n",
       "      <td>Capital Federal</td>\n",
       "      <td>Mataderos</td>\n",
       "      <td>CASA</td>\n",
       "      <td>1</td>\n",
       "      <td>0</td>\n",
       "      <td>0</td>\n",
       "      <td>0</td>\n",
       "      <td>1127.27</td>\n",
       "      <td>1550.000000</td>\n",
       "    </tr>\n",
       "    <tr>\n",
       "      <th>1</th>\n",
       "      <td>2</td>\n",
       "      <td>72000.0</td>\n",
       "      <td>55.0</td>\n",
       "      <td>55.0</td>\n",
       "      <td>Capital Federal</td>\n",
       "      <td>Mataderos</td>\n",
       "      <td>NaN</td>\n",
       "      <td>0</td>\n",
       "      <td>1</td>\n",
       "      <td>0</td>\n",
       "      <td>0</td>\n",
       "      <td>1309.09</td>\n",
       "      <td>1309.090909</td>\n",
       "    </tr>\n",
       "    <tr>\n",
       "      <th>2</th>\n",
       "      <td>4</td>\n",
       "      <td>64000.0</td>\n",
       "      <td>35.0</td>\n",
       "      <td>35.0</td>\n",
       "      <td>Buenos Aires Costa Atlántica</td>\n",
       "      <td>Mar del Plata</td>\n",
       "      <td>NaN</td>\n",
       "      <td>0</td>\n",
       "      <td>1</td>\n",
       "      <td>0</td>\n",
       "      <td>0</td>\n",
       "      <td>1828.57</td>\n",
       "      <td>1828.571429</td>\n",
       "    </tr>\n",
       "  </tbody>\n",
       "</table>\n",
       "</div>"
      ],
      "text/plain": [
       "   Unnamed: 0  price_aprox_usd  surface_total_in_m2  surface_covered_in_m2  \\\n",
       "0           0          62000.0                 55.0                   40.0   \n",
       "1           2          72000.0                 55.0                   55.0   \n",
       "2           4          64000.0                 35.0                   35.0   \n",
       "\n",
       "                      Provincia         Barrio property_title  propiedad_PH  \\\n",
       "0               Capital Federal      Mataderos           CASA             1   \n",
       "1               Capital Federal      Mataderos            NaN             0   \n",
       "2  Buenos Aires Costa Atlántica  Mar del Plata            NaN             0   \n",
       "\n",
       "   propiedad_apartment  propiedad_house  propiedad_store  precio_M2_total  \\\n",
       "0                    0                0                0          1127.27   \n",
       "1                    1                0                0          1309.09   \n",
       "2                    1                0                0          1828.57   \n",
       "\n",
       "   precio_M2_covered  \n",
       "0        1550.000000  \n",
       "1        1309.090909  \n",
       "2        1828.571429  "
      ]
     },
     "metadata": {},
     "output_type": "display_data"
    },
    {
     "data": {
      "text/html": [
       "<div>\n",
       "<style scoped>\n",
       "    .dataframe tbody tr th:only-of-type {\n",
       "        vertical-align: middle;\n",
       "    }\n",
       "\n",
       "    .dataframe tbody tr th {\n",
       "        vertical-align: top;\n",
       "    }\n",
       "\n",
       "    .dataframe thead th {\n",
       "        text-align: right;\n",
       "    }\n",
       "</style>\n",
       "<table border=\"1\" class=\"dataframe\">\n",
       "  <thead>\n",
       "    <tr style=\"text-align: right;\">\n",
       "      <th></th>\n",
       "      <th>Unnamed: 0</th>\n",
       "      <th>operation</th>\n",
       "      <th>property_type</th>\n",
       "      <th>place_name</th>\n",
       "      <th>place_with_parent_names</th>\n",
       "      <th>country_name</th>\n",
       "      <th>state_name</th>\n",
       "      <th>geonames_id</th>\n",
       "      <th>lat-lon</th>\n",
       "      <th>lat</th>\n",
       "      <th>...</th>\n",
       "      <th>surface_covered_in_m2</th>\n",
       "      <th>price_usd_per_m2</th>\n",
       "      <th>price_per_m2</th>\n",
       "      <th>floor</th>\n",
       "      <th>rooms</th>\n",
       "      <th>expenses</th>\n",
       "      <th>properati_url</th>\n",
       "      <th>description</th>\n",
       "      <th>title</th>\n",
       "      <th>image_thumbnail</th>\n",
       "    </tr>\n",
       "  </thead>\n",
       "  <tbody>\n",
       "    <tr>\n",
       "      <th>0</th>\n",
       "      <td>0</td>\n",
       "      <td>sell</td>\n",
       "      <td>PH</td>\n",
       "      <td>Mataderos</td>\n",
       "      <td>|Argentina|Capital Federal|Mataderos|</td>\n",
       "      <td>Argentina</td>\n",
       "      <td>Capital Federal</td>\n",
       "      <td>3430787.0</td>\n",
       "      <td>-34.6618237,-58.5088387</td>\n",
       "      <td>-34.661824</td>\n",
       "      <td>...</td>\n",
       "      <td>40.0</td>\n",
       "      <td>1127.272727</td>\n",
       "      <td>1550.000000</td>\n",
       "      <td>NaN</td>\n",
       "      <td>NaN</td>\n",
       "      <td>NaN</td>\n",
       "      <td>http://www.properati.com.ar/15bo8_venta_ph_mat...</td>\n",
       "      <td>2 AMBIENTES TIPO CASA PLANTA BAJA POR PASILLO,...</td>\n",
       "      <td>2 AMB TIPO CASA SIN EXPENSAS EN PB</td>\n",
       "      <td>https://thumbs4.properati.com/8/BluUYiHJLhgIIK...</td>\n",
       "    </tr>\n",
       "    <tr>\n",
       "      <th>1</th>\n",
       "      <td>1</td>\n",
       "      <td>sell</td>\n",
       "      <td>apartment</td>\n",
       "      <td>La Plata</td>\n",
       "      <td>|Argentina|Bs.As. G.B.A. Zona Sur|La Plata|</td>\n",
       "      <td>Argentina</td>\n",
       "      <td>Bs.As. G.B.A. Zona Sur</td>\n",
       "      <td>3432039.0</td>\n",
       "      <td>-34.9038831,-57.9643295</td>\n",
       "      <td>-34.903883</td>\n",
       "      <td>...</td>\n",
       "      <td>NaN</td>\n",
       "      <td>NaN</td>\n",
       "      <td>NaN</td>\n",
       "      <td>NaN</td>\n",
       "      <td>NaN</td>\n",
       "      <td>NaN</td>\n",
       "      <td>http://www.properati.com.ar/15bob_venta_depart...</td>\n",
       "      <td>Venta de departamento en décimo piso al frente...</td>\n",
       "      <td>VENTA Depto 2 dorm. a estrenar 7 e/ 36 y 37   ...</td>\n",
       "      <td>https://thumbs4.properati.com/7/ikpVBu2ztHA7jv...</td>\n",
       "    </tr>\n",
       "    <tr>\n",
       "      <th>2</th>\n",
       "      <td>2</td>\n",
       "      <td>sell</td>\n",
       "      <td>apartment</td>\n",
       "      <td>Mataderos</td>\n",
       "      <td>|Argentina|Capital Federal|Mataderos|</td>\n",
       "      <td>Argentina</td>\n",
       "      <td>Capital Federal</td>\n",
       "      <td>3430787.0</td>\n",
       "      <td>-34.6522615,-58.5229825</td>\n",
       "      <td>-34.652262</td>\n",
       "      <td>...</td>\n",
       "      <td>55.0</td>\n",
       "      <td>1309.090909</td>\n",
       "      <td>1309.090909</td>\n",
       "      <td>NaN</td>\n",
       "      <td>NaN</td>\n",
       "      <td>NaN</td>\n",
       "      <td>http://www.properati.com.ar/15bod_venta_depart...</td>\n",
       "      <td>2 AMBIENTES 3ER PISO LATERAL LIVING COMEDOR AM...</td>\n",
       "      <td>2 AMB 3ER PISO CON ASCENSOR APTO CREDITO</td>\n",
       "      <td>https://thumbs4.properati.com/5/SXKr34F_IwG3W_...</td>\n",
       "    </tr>\n",
       "  </tbody>\n",
       "</table>\n",
       "<p>3 rows × 26 columns</p>\n",
       "</div>"
      ],
      "text/plain": [
       "   Unnamed: 0 operation property_type place_name  \\\n",
       "0           0      sell            PH  Mataderos   \n",
       "1           1      sell     apartment   La Plata   \n",
       "2           2      sell     apartment  Mataderos   \n",
       "\n",
       "                       place_with_parent_names country_name  \\\n",
       "0        |Argentina|Capital Federal|Mataderos|    Argentina   \n",
       "1  |Argentina|Bs.As. G.B.A. Zona Sur|La Plata|    Argentina   \n",
       "2        |Argentina|Capital Federal|Mataderos|    Argentina   \n",
       "\n",
       "               state_name  geonames_id                  lat-lon        lat  \\\n",
       "0         Capital Federal    3430787.0  -34.6618237,-58.5088387 -34.661824   \n",
       "1  Bs.As. G.B.A. Zona Sur    3432039.0  -34.9038831,-57.9643295 -34.903883   \n",
       "2         Capital Federal    3430787.0  -34.6522615,-58.5229825 -34.652262   \n",
       "\n",
       "   ...  surface_covered_in_m2  price_usd_per_m2 price_per_m2  floor  rooms  \\\n",
       "0  ...                   40.0       1127.272727  1550.000000    NaN    NaN   \n",
       "1  ...                    NaN               NaN          NaN    NaN    NaN   \n",
       "2  ...                   55.0       1309.090909  1309.090909    NaN    NaN   \n",
       "\n",
       "   expenses                                      properati_url  \\\n",
       "0       NaN  http://www.properati.com.ar/15bo8_venta_ph_mat...   \n",
       "1       NaN  http://www.properati.com.ar/15bob_venta_depart...   \n",
       "2       NaN  http://www.properati.com.ar/15bod_venta_depart...   \n",
       "\n",
       "                                         description  \\\n",
       "0  2 AMBIENTES TIPO CASA PLANTA BAJA POR PASILLO,...   \n",
       "1  Venta de departamento en décimo piso al frente...   \n",
       "2  2 AMBIENTES 3ER PISO LATERAL LIVING COMEDOR AM...   \n",
       "\n",
       "                                               title  \\\n",
       "0                 2 AMB TIPO CASA SIN EXPENSAS EN PB   \n",
       "1  VENTA Depto 2 dorm. a estrenar 7 e/ 36 y 37   ...   \n",
       "2           2 AMB 3ER PISO CON ASCENSOR APTO CREDITO   \n",
       "\n",
       "                                     image_thumbnail  \n",
       "0  https://thumbs4.properati.com/8/BluUYiHJLhgIIK...  \n",
       "1  https://thumbs4.properati.com/7/ikpVBu2ztHA7jv...  \n",
       "2  https://thumbs4.properati.com/5/SXKr34F_IwG3W_...  \n",
       "\n",
       "[3 rows x 26 columns]"
      ]
     },
     "metadata": {},
     "output_type": "display_data"
    }
   ],
   "source": [
    "#Importamos el dataset final del desafío uno para mergearlo con el dataset original de properatti y rescatar la columna \"description\"\n",
    "df_original= pd.read_csv(\"./Data/properatti.csv\")\n",
    "df_final_desafio_1= pd.read_csv(\"./Data/Data_final_desafio_1.csv\")\n",
    "display(df_final_desafio_1.head(3),\n",
    "       df_original.head(3))"
   ]
  },
  {
   "cell_type": "code",
   "execution_count": 3,
   "metadata": {},
   "outputs": [],
   "source": [
    "#Eliminamos columnas del df original de properatti para mergear con el df final del desafio 1 y realizar el regex.\n",
    "all_cols=df_original.columns.values.tolist()"
   ]
  },
  {
   "cell_type": "code",
   "execution_count": 4,
   "metadata": {},
   "outputs": [],
   "source": [
    "cols_deseadas= ['Unnamed: 0','description',\"property_type\",\"rooms\"]\n",
    "cols_no_deseadas= [x for x in all_cols if x not in cols_deseadas]\n",
    "df_original.drop(cols_no_deseadas, axis=1, inplace=True)"
   ]
  },
  {
   "cell_type": "code",
   "execution_count": 5,
   "metadata": {},
   "outputs": [
    {
     "data": {
      "text/plain": [
       "Index(['Unnamed: 0', 'property_type', 'rooms', 'description'], dtype='object')"
      ]
     },
     "execution_count": 5,
     "metadata": {},
     "output_type": "execute_result"
    }
   ],
   "source": [
    "df_original.columns"
   ]
  },
  {
   "cell_type": "code",
   "execution_count": 6,
   "metadata": {},
   "outputs": [],
   "source": [
    "#Mergeamos para agregar la columna description.\n",
    "df_desafio_1_y_df_original= df_final_desafio_1.merge(df_original, on=\"Unnamed: 0\", how=\"inner\")"
   ]
  },
  {
   "cell_type": "code",
   "execution_count": 7,
   "metadata": {},
   "outputs": [
    {
     "name": "stdout",
     "output_type": "stream",
     "text": [
      "(71827, 16)\n",
      "Index(['Unnamed: 0', 'price_aprox_usd', 'surface_total_in_m2',\n",
      "       'surface_covered_in_m2', 'Provincia', 'Barrio', 'property_title',\n",
      "       'propiedad_PH', 'propiedad_apartment', 'propiedad_house',\n",
      "       'propiedad_store', 'precio_M2_total', 'precio_M2_covered',\n",
      "       'property_type', 'rooms', 'description'],\n",
      "      dtype='object')\n"
     ]
    }
   ],
   "source": [
    "#Chequeamos que este todo bien.\n",
    "print((df_desafio_1_y_df_original.shape))\n",
    "print((df_desafio_1_y_df_original.columns))"
   ]
  },
  {
   "cell_type": "markdown",
   "metadata": {},
   "source": [
    "## Feature Engineering\n",
    "#### Utilizamos Regex para extraer información de la columna \"description\"."
   ]
  },
  {
   "cell_type": "markdown",
   "metadata": {},
   "source": [
    "##### Utilizando dicha técnica vamos a dummificar ciertas amenities. \"Pileta, Gimnasio, Vista, Patio y Garaje\""
   ]
  },
  {
   "cell_type": "markdown",
   "metadata": {},
   "source": [
    "##### Pileta"
   ]
  },
  {
   "cell_type": "code",
   "execution_count": 8,
   "metadata": {},
   "outputs": [
    {
     "data": {
      "text/plain": [
       "0        2 AMBIENTES TIPO CASA PLANTA BAJA POR PASILLO,...\n",
       "1        2 AMBIENTES 3ER PISO LATERAL LIVING COMEDOR AM...\n",
       "2        DEPARTAMENTO CON FANTÁSTICA ILUMINACIÓN NATURA...\n",
       "3        MUY BUEN PH AL FRENTE CON ENTRADA INDEPENDIENT...\n",
       "4        EXCELENTE MONOAMBIENTE A ESTRENAR AMPLIO SUPER...\n",
       "                               ...                        \n",
       "71822    EXCELENTE UBICACIÓN - AVENIDA PUEYRREDON Y LAS...\n",
       "71823    EDIFICIO EN ESQUINA DE MUY BUENA CATEGORÍA DE ...\n",
       "71824    EXCELENTE E IMPECABLE CASA EN VENTA EN LAS LOM...\n",
       "71825    VENTA DEPARTAMENTO AMBIENTE DIVISIBLE A ESTREN...\n",
       "71826    2 AMB AL CONTRAFRENTE,  LUMINOSO. EL DEPARTAME...\n",
       "Name: description, Length: 71827, dtype: object"
      ]
     },
     "execution_count": 8,
     "metadata": {},
     "output_type": "execute_result"
    }
   ],
   "source": [
    "#Estandarizamos la serie.\n",
    "serie_description= df_desafio_1_y_df_original.description.apply(lambda x: str(x).upper())\n",
    "serie_description"
   ]
  },
  {
   "cell_type": "code",
   "execution_count": 9,
   "metadata": {},
   "outputs": [],
   "source": [
    "#Definimos el patrón y compilamos.\n",
    "pattern = \"(?P<pileta_ref> PILETA|PISCINA|JACUZZI|YACUSI +$)\"\n",
    "pattern_compilado= re.compile(pattern)\n",
    "buscar_match= serie_description.apply(lambda x: pattern_compilado.search(x))\n",
    "matcheados =buscar_match.notnull()"
   ]
  },
  {
   "cell_type": "code",
   "execution_count": 10,
   "metadata": {},
   "outputs": [
    {
     "data": {
      "text/plain": [
       "20037"
      ]
     },
     "execution_count": 10,
     "metadata": {},
     "output_type": "execute_result"
    }
   ],
   "source": [
    "#Tienen pileta.\n",
    "matcheados.sum()"
   ]
  },
  {
   "cell_type": "code",
   "execution_count": 11,
   "metadata": {},
   "outputs": [],
   "source": [
    "#Creamos una columna con los datos relevados.\n",
    "df_desafio_1_y_df_original['PILETA'] = buscar_match[matcheados].apply(lambda x: x if x is np.NaN else x.group(\"pileta_ref\"))"
   ]
  },
  {
   "cell_type": "markdown",
   "metadata": {},
   "source": [
    "##### Gimnasio"
   ]
  },
  {
   "cell_type": "code",
   "execution_count": 12,
   "metadata": {},
   "outputs": [
    {
     "data": {
      "text/plain": [
       "6260"
      ]
     },
     "execution_count": 12,
     "metadata": {},
     "output_type": "execute_result"
    }
   ],
   "source": [
    "#Compilamos el patron.\n",
    "pattern_gym= \"(?P<gym_ref> GIMNASIO|GYM|GIMNASIA|GIMNACIO|ENTRENAR|ENTRENAMIENTO|FITNESS +$)\"\n",
    "compile_pattern_gym= re.compile(pattern_gym)\n",
    "matchear= serie_description.apply(lambda x: compile_pattern_gym.search(x))\n",
    "mask_no_nulos_gym= matchear.notnull()\n",
    "mask_no_nulos_gym.sum()\n",
    "#Encontramos 6260 entradas que indican que poseen gimnasio."
   ]
  },
  {
   "cell_type": "code",
   "execution_count": 13,
   "metadata": {},
   "outputs": [],
   "source": [
    "#Extraemos esos valores y los volcamos en una columna.\n",
    "extraer_match= matchear[mask_no_nulos_gym].apply(lambda x: x if x is np.NaN else x.group(\"gym_ref\"))\n",
    "df_desafio_1_y_df_original[\"GYM\"]= extraer_match"
   ]
  },
  {
   "cell_type": "markdown",
   "metadata": {},
   "source": [
    "##### Patio"
   ]
  },
  {
   "cell_type": "code",
   "execution_count": 14,
   "metadata": {},
   "outputs": [],
   "source": [
    "#Compilamos el patron.\n",
    "pattern_patio= \"(?P<patio_ref> TERRAZA|BALCON+$)\"\n",
    "patron_compilado_patio= re.compile(pattern_patio)\n",
    "matchear_patio= serie_description.apply(lambda x: patron_compilado_patio.search(x))\n",
    "encontrados_patio=matchear_patio.notnull()"
   ]
  },
  {
   "cell_type": "code",
   "execution_count": 15,
   "metadata": {},
   "outputs": [
    {
     "data": {
      "text/plain": [
       "15316"
      ]
     },
     "execution_count": 15,
     "metadata": {},
     "output_type": "execute_result"
    }
   ],
   "source": [
    "#Cantidad de entradas con terraza y balcon encontrados.\n",
    "encontrados_patio.sum()"
   ]
  },
  {
   "cell_type": "code",
   "execution_count": 16,
   "metadata": {},
   "outputs": [],
   "source": [
    "extraer_match_patio= matchear_patio[encontrados_patio].apply(lambda x: x if x is np.NaN else x.group(\"patio_ref\"))\n",
    "df_desafio_1_y_df_original[\"PATIO\"]= extraer_match_patio"
   ]
  },
  {
   "cell_type": "markdown",
   "metadata": {},
   "source": [
    "##### Luminosidad"
   ]
  },
  {
   "cell_type": "code",
   "execution_count": 17,
   "metadata": {},
   "outputs": [],
   "source": [
    "#Compilamos el patron.\n",
    "pattern_luz= \"(?P<luz_ref> LUZ|LUMINOSO|SOL|ILUMINADO|LUMINOCIDAD|SOLAR|VISTA +$)\"\n",
    "patron_compilado_luz= re.compile(pattern_luz)\n",
    "matchear_luz= serie_description.apply(lambda x: patron_compilado_luz.search(x))\n",
    "encontrados_luz=matchear_luz.notnull()"
   ]
  },
  {
   "cell_type": "code",
   "execution_count": 18,
   "metadata": {},
   "outputs": [
    {
     "data": {
      "text/plain": [
       "29655"
      ]
     },
     "execution_count": 18,
     "metadata": {},
     "output_type": "execute_result"
    }
   ],
   "source": [
    "#Cantidad de entradas encontradas con dichas características.\n",
    "encontrados_luz.sum()"
   ]
  },
  {
   "cell_type": "code",
   "execution_count": 19,
   "metadata": {},
   "outputs": [],
   "source": [
    "extraer_match_luz= matchear_luz[encontrados_luz].apply(lambda x: x if x is np.NaN else x.group(\"luz_ref\"))\n",
    "df_desafio_1_y_df_original[\"LUZ\"]= extraer_match_luz"
   ]
  },
  {
   "cell_type": "markdown",
   "metadata": {},
   "source": [
    "##### Garaje"
   ]
  },
  {
   "cell_type": "code",
   "execution_count": 20,
   "metadata": {},
   "outputs": [],
   "source": [
    "# Creamos el patron para Garaje.\n",
    "garaje_pattern = \"(?P<garage_ref> GARAGE|COCHERA|PARKING|GARAJE|ESTACIONAMIENTO +$)\"\n",
    "garaje_pattern_regex = re.compile(garaje_pattern)\n",
    "matchear_garaje= serie_description.apply(lambda x: garaje_pattern_regex.search(x))\n",
    "encontrados_garaje=matchear_garaje.notnull()"
   ]
  },
  {
   "cell_type": "code",
   "execution_count": 21,
   "metadata": {},
   "outputs": [
    {
     "data": {
      "text/plain": [
       "31631"
      ]
     },
     "execution_count": 21,
     "metadata": {},
     "output_type": "execute_result"
    }
   ],
   "source": [
    "#Cantidad de entradas encontradas con garaje.\n",
    "encontrados_garaje.sum()"
   ]
  },
  {
   "cell_type": "code",
   "execution_count": 22,
   "metadata": {},
   "outputs": [],
   "source": [
    "extraer_match_garaje= matchear_garaje[encontrados_garaje].apply(lambda x: x if x is np.NaN else x.group(\"garage_ref\"))\n",
    "df_desafio_1_y_df_original[\"GARAJE\"]= extraer_match_garaje"
   ]
  },
  {
   "cell_type": "code",
   "execution_count": 23,
   "metadata": {},
   "outputs": [
    {
     "data": {
      "text/html": [
       "<div>\n",
       "<style scoped>\n",
       "    .dataframe tbody tr th:only-of-type {\n",
       "        vertical-align: middle;\n",
       "    }\n",
       "\n",
       "    .dataframe tbody tr th {\n",
       "        vertical-align: top;\n",
       "    }\n",
       "\n",
       "    .dataframe thead th {\n",
       "        text-align: right;\n",
       "    }\n",
       "</style>\n",
       "<table border=\"1\" class=\"dataframe\">\n",
       "  <thead>\n",
       "    <tr style=\"text-align: right;\">\n",
       "      <th></th>\n",
       "      <th>Unnamed: 0</th>\n",
       "      <th>price_aprox_usd</th>\n",
       "      <th>surface_total_in_m2</th>\n",
       "      <th>surface_covered_in_m2</th>\n",
       "      <th>Provincia</th>\n",
       "      <th>Barrio</th>\n",
       "      <th>property_title</th>\n",
       "      <th>propiedad_PH</th>\n",
       "      <th>propiedad_apartment</th>\n",
       "      <th>propiedad_house</th>\n",
       "      <th>...</th>\n",
       "      <th>precio_M2_total</th>\n",
       "      <th>precio_M2_covered</th>\n",
       "      <th>property_type</th>\n",
       "      <th>rooms</th>\n",
       "      <th>description</th>\n",
       "      <th>PILETA</th>\n",
       "      <th>GYM</th>\n",
       "      <th>PATIO</th>\n",
       "      <th>LUZ</th>\n",
       "      <th>GARAJE</th>\n",
       "    </tr>\n",
       "  </thead>\n",
       "  <tbody>\n",
       "    <tr>\n",
       "      <th>0</th>\n",
       "      <td>0</td>\n",
       "      <td>62000.0</td>\n",
       "      <td>55.0</td>\n",
       "      <td>40.0</td>\n",
       "      <td>Capital Federal</td>\n",
       "      <td>Mataderos</td>\n",
       "      <td>CASA</td>\n",
       "      <td>1</td>\n",
       "      <td>0</td>\n",
       "      <td>0</td>\n",
       "      <td>...</td>\n",
       "      <td>1127.27</td>\n",
       "      <td>1550.000000</td>\n",
       "      <td>PH</td>\n",
       "      <td>NaN</td>\n",
       "      <td>2 AMBIENTES TIPO CASA PLANTA BAJA POR PASILLO,...</td>\n",
       "      <td>NaN</td>\n",
       "      <td>NaN</td>\n",
       "      <td>NaN</td>\n",
       "      <td>NaN</td>\n",
       "      <td>NaN</td>\n",
       "    </tr>\n",
       "    <tr>\n",
       "      <th>1</th>\n",
       "      <td>2</td>\n",
       "      <td>72000.0</td>\n",
       "      <td>55.0</td>\n",
       "      <td>55.0</td>\n",
       "      <td>Capital Federal</td>\n",
       "      <td>Mataderos</td>\n",
       "      <td>NaN</td>\n",
       "      <td>0</td>\n",
       "      <td>1</td>\n",
       "      <td>0</td>\n",
       "      <td>...</td>\n",
       "      <td>1309.09</td>\n",
       "      <td>1309.090909</td>\n",
       "      <td>apartment</td>\n",
       "      <td>NaN</td>\n",
       "      <td>2 AMBIENTES 3ER PISO LATERAL LIVING COMEDOR AM...</td>\n",
       "      <td>NaN</td>\n",
       "      <td>NaN</td>\n",
       "      <td>NaN</td>\n",
       "      <td>NaN</td>\n",
       "      <td>NaN</td>\n",
       "    </tr>\n",
       "    <tr>\n",
       "      <th>2</th>\n",
       "      <td>4</td>\n",
       "      <td>64000.0</td>\n",
       "      <td>35.0</td>\n",
       "      <td>35.0</td>\n",
       "      <td>Buenos Aires Costa Atlántica</td>\n",
       "      <td>Mar del Plata</td>\n",
       "      <td>NaN</td>\n",
       "      <td>0</td>\n",
       "      <td>1</td>\n",
       "      <td>0</td>\n",
       "      <td>...</td>\n",
       "      <td>1828.57</td>\n",
       "      <td>1828.571429</td>\n",
       "      <td>apartment</td>\n",
       "      <td>NaN</td>\n",
       "      <td>DEPARTAMENTO CON FANTÁSTICA ILUMINACIÓN NATURA...</td>\n",
       "      <td>NaN</td>\n",
       "      <td>NaN</td>\n",
       "      <td>NaN</td>\n",
       "      <td>NaN</td>\n",
       "      <td>NaN</td>\n",
       "    </tr>\n",
       "  </tbody>\n",
       "</table>\n",
       "<p>3 rows × 21 columns</p>\n",
       "</div>"
      ],
      "text/plain": [
       "   Unnamed: 0  price_aprox_usd  surface_total_in_m2  surface_covered_in_m2  \\\n",
       "0           0          62000.0                 55.0                   40.0   \n",
       "1           2          72000.0                 55.0                   55.0   \n",
       "2           4          64000.0                 35.0                   35.0   \n",
       "\n",
       "                      Provincia         Barrio property_title  propiedad_PH  \\\n",
       "0               Capital Federal      Mataderos           CASA             1   \n",
       "1               Capital Federal      Mataderos            NaN             0   \n",
       "2  Buenos Aires Costa Atlántica  Mar del Plata            NaN             0   \n",
       "\n",
       "   propiedad_apartment  propiedad_house  ...  precio_M2_total  \\\n",
       "0                    0                0  ...          1127.27   \n",
       "1                    1                0  ...          1309.09   \n",
       "2                    1                0  ...          1828.57   \n",
       "\n",
       "   precio_M2_covered  property_type rooms  \\\n",
       "0        1550.000000             PH   NaN   \n",
       "1        1309.090909      apartment   NaN   \n",
       "2        1828.571429      apartment   NaN   \n",
       "\n",
       "                                         description PILETA  GYM PATIO  LUZ  \\\n",
       "0  2 AMBIENTES TIPO CASA PLANTA BAJA POR PASILLO,...    NaN  NaN   NaN  NaN   \n",
       "1  2 AMBIENTES 3ER PISO LATERAL LIVING COMEDOR AM...    NaN  NaN   NaN  NaN   \n",
       "2  DEPARTAMENTO CON FANTÁSTICA ILUMINACIÓN NATURA...    NaN  NaN   NaN  NaN   \n",
       "\n",
       "  GARAJE  \n",
       "0    NaN  \n",
       "1    NaN  \n",
       "2    NaN  \n",
       "\n",
       "[3 rows x 21 columns]"
      ]
     },
     "execution_count": 23,
     "metadata": {},
     "output_type": "execute_result"
    }
   ],
   "source": [
    "#Chequeamos que esten creadas las columnas.\n",
    "df_desafio_1_y_df_original.head(3)"
   ]
  },
  {
   "cell_type": "markdown",
   "metadata": {},
   "source": [
    "## Dummificamos las variables encontradas."
   ]
  },
  {
   "cell_type": "code",
   "execution_count": 24,
   "metadata": {},
   "outputs": [],
   "source": [
    "df_desafio_1_y_df_original[\"Pileta_dummie\"]=df_desafio_1_y_df_original.PILETA.apply(lambda x : 0 if x is np.NaN else 1)\n",
    "df_desafio_1_y_df_original[\"Gym_dummie\"]= df_desafio_1_y_df_original.GYM.apply(lambda x: 0 if x is np.NaN else 1)\n",
    "df_desafio_1_y_df_original[\"Luz_dummie\"]= df_desafio_1_y_df_original.LUZ.apply(lambda x: 0 if x is np.NaN else 1)\n",
    "df_desafio_1_y_df_original[\"Patio_dummie\"]= df_desafio_1_y_df_original.PATIO.apply(lambda x: 0 if x is np.NaN else 1)\n",
    "df_desafio_1_y_df_original[\"Garage_dummie\"]= df_desafio_1_y_df_original.GARAJE.apply(lambda x: 0 if x is np.NaN else 1)\n",
    "df_desafio_1_y_df_original.drop([\"PILETA\",\"GYM\",\"PATIO\",\"LUZ\",\"GARAJE\",\"property_title\"], axis=1, inplace=True)"
   ]
  },
  {
   "cell_type": "code",
   "execution_count": 25,
   "metadata": {},
   "outputs": [
    {
     "data": {
      "text/html": [
       "<div>\n",
       "<style scoped>\n",
       "    .dataframe tbody tr th:only-of-type {\n",
       "        vertical-align: middle;\n",
       "    }\n",
       "\n",
       "    .dataframe tbody tr th {\n",
       "        vertical-align: top;\n",
       "    }\n",
       "\n",
       "    .dataframe thead th {\n",
       "        text-align: right;\n",
       "    }\n",
       "</style>\n",
       "<table border=\"1\" class=\"dataframe\">\n",
       "  <thead>\n",
       "    <tr style=\"text-align: right;\">\n",
       "      <th></th>\n",
       "      <th>Unnamed: 0</th>\n",
       "      <th>price_aprox_usd</th>\n",
       "      <th>surface_total_in_m2</th>\n",
       "      <th>surface_covered_in_m2</th>\n",
       "      <th>Provincia</th>\n",
       "      <th>Barrio</th>\n",
       "      <th>propiedad_PH</th>\n",
       "      <th>propiedad_apartment</th>\n",
       "      <th>propiedad_house</th>\n",
       "      <th>propiedad_store</th>\n",
       "      <th>precio_M2_total</th>\n",
       "      <th>precio_M2_covered</th>\n",
       "      <th>property_type</th>\n",
       "      <th>rooms</th>\n",
       "      <th>description</th>\n",
       "      <th>Pileta_dummie</th>\n",
       "      <th>Gym_dummie</th>\n",
       "      <th>Luz_dummie</th>\n",
       "      <th>Patio_dummie</th>\n",
       "      <th>Garage_dummie</th>\n",
       "    </tr>\n",
       "  </thead>\n",
       "  <tbody>\n",
       "    <tr>\n",
       "      <th>0</th>\n",
       "      <td>0</td>\n",
       "      <td>62000.0</td>\n",
       "      <td>55.0</td>\n",
       "      <td>40.0</td>\n",
       "      <td>Capital Federal</td>\n",
       "      <td>Mataderos</td>\n",
       "      <td>1</td>\n",
       "      <td>0</td>\n",
       "      <td>0</td>\n",
       "      <td>0</td>\n",
       "      <td>1127.27</td>\n",
       "      <td>1550.000000</td>\n",
       "      <td>PH</td>\n",
       "      <td>NaN</td>\n",
       "      <td>2 AMBIENTES TIPO CASA PLANTA BAJA POR PASILLO,...</td>\n",
       "      <td>0</td>\n",
       "      <td>0</td>\n",
       "      <td>0</td>\n",
       "      <td>0</td>\n",
       "      <td>0</td>\n",
       "    </tr>\n",
       "    <tr>\n",
       "      <th>1</th>\n",
       "      <td>2</td>\n",
       "      <td>72000.0</td>\n",
       "      <td>55.0</td>\n",
       "      <td>55.0</td>\n",
       "      <td>Capital Federal</td>\n",
       "      <td>Mataderos</td>\n",
       "      <td>0</td>\n",
       "      <td>1</td>\n",
       "      <td>0</td>\n",
       "      <td>0</td>\n",
       "      <td>1309.09</td>\n",
       "      <td>1309.090909</td>\n",
       "      <td>apartment</td>\n",
       "      <td>NaN</td>\n",
       "      <td>2 AMBIENTES 3ER PISO LATERAL LIVING COMEDOR AM...</td>\n",
       "      <td>0</td>\n",
       "      <td>0</td>\n",
       "      <td>0</td>\n",
       "      <td>0</td>\n",
       "      <td>0</td>\n",
       "    </tr>\n",
       "    <tr>\n",
       "      <th>2</th>\n",
       "      <td>4</td>\n",
       "      <td>64000.0</td>\n",
       "      <td>35.0</td>\n",
       "      <td>35.0</td>\n",
       "      <td>Buenos Aires Costa Atlántica</td>\n",
       "      <td>Mar del Plata</td>\n",
       "      <td>0</td>\n",
       "      <td>1</td>\n",
       "      <td>0</td>\n",
       "      <td>0</td>\n",
       "      <td>1828.57</td>\n",
       "      <td>1828.571429</td>\n",
       "      <td>apartment</td>\n",
       "      <td>NaN</td>\n",
       "      <td>DEPARTAMENTO CON FANTÁSTICA ILUMINACIÓN NATURA...</td>\n",
       "      <td>0</td>\n",
       "      <td>0</td>\n",
       "      <td>0</td>\n",
       "      <td>0</td>\n",
       "      <td>0</td>\n",
       "    </tr>\n",
       "  </tbody>\n",
       "</table>\n",
       "</div>"
      ],
      "text/plain": [
       "   Unnamed: 0  price_aprox_usd  surface_total_in_m2  surface_covered_in_m2  \\\n",
       "0           0          62000.0                 55.0                   40.0   \n",
       "1           2          72000.0                 55.0                   55.0   \n",
       "2           4          64000.0                 35.0                   35.0   \n",
       "\n",
       "                      Provincia         Barrio  propiedad_PH  \\\n",
       "0               Capital Federal      Mataderos             1   \n",
       "1               Capital Federal      Mataderos             0   \n",
       "2  Buenos Aires Costa Atlántica  Mar del Plata             0   \n",
       "\n",
       "   propiedad_apartment  propiedad_house  propiedad_store  precio_M2_total  \\\n",
       "0                    0                0                0          1127.27   \n",
       "1                    1                0                0          1309.09   \n",
       "2                    1                0                0          1828.57   \n",
       "\n",
       "   precio_M2_covered property_type  rooms  \\\n",
       "0        1550.000000            PH    NaN   \n",
       "1        1309.090909     apartment    NaN   \n",
       "2        1828.571429     apartment    NaN   \n",
       "\n",
       "                                         description  Pileta_dummie  \\\n",
       "0  2 AMBIENTES TIPO CASA PLANTA BAJA POR PASILLO,...              0   \n",
       "1  2 AMBIENTES 3ER PISO LATERAL LIVING COMEDOR AM...              0   \n",
       "2  DEPARTAMENTO CON FANTÁSTICA ILUMINACIÓN NATURA...              0   \n",
       "\n",
       "   Gym_dummie  Luz_dummie  Patio_dummie  Garage_dummie  \n",
       "0           0           0             0              0  \n",
       "1           0           0             0              0  \n",
       "2           0           0             0              0  "
      ]
     },
     "execution_count": 25,
     "metadata": {},
     "output_type": "execute_result"
    }
   ],
   "source": [
    "df_desafio_1_y_df_original.head(3)"
   ]
  },
  {
   "cell_type": "code",
   "execution_count": 26,
   "metadata": {},
   "outputs": [],
   "source": [
    "#Exportamos el df como CSV para trabajarlo aparte con los modelos.\n",
    "ubicación= r\"C:\\Users\\Carlos\\Desktop\\Desafio 2\\Data\\DATA_VA_1.csv\"\n",
    "df_desafio_1_y_df_original.to_csv(ubicación)"
   ]
  }
 ],
 "metadata": {
  "kernelspec": {
   "display_name": "Python 3",
   "language": "python",
   "name": "python3"
  },
  "language_info": {
   "codemirror_mode": {
    "name": "ipython",
    "version": 3
   },
   "file_extension": ".py",
   "mimetype": "text/x-python",
   "name": "python",
   "nbconvert_exporter": "python",
   "pygments_lexer": "ipython3",
   "version": "3.7.7"
  }
 },
 "nbformat": 4,
 "nbformat_minor": 4
}
